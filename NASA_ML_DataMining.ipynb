{
  "nbformat": 4,
  "nbformat_minor": 0,
  "metadata": {
    "colab": {
      "provenance": []
    },
    "kernelspec": {
      "name": "python3",
      "display_name": "Python 3"
    },
    "language_info": {
      "name": "python"
    }
  },
  "cells": [
    {
      "cell_type": "code",
      "execution_count": 21,
      "metadata": {
        "colab": {
          "base_uri": "https://localhost:8080/"
        },
        "id": "QPT-jIdAly70",
        "outputId": "d303fc23-656a-4bdf-cb04-8799d3432d1c"
      },
      "outputs": [
        {
          "output_type": "stream",
          "name": "stdout",
          "text": [
            "✅ File 'CM1.arff' ditemukan. Memuat data...\n",
            "✅ Dataset berhasil dimuat dan diproses dari file lokal ARFF!\n",
            "\n",
            "Distribusi Kelas Keseluruhan:\n",
            "Defective\n",
            "0    302\n",
            "1     42\n",
            "Name: count, dtype: int64\n",
            "\n",
            "--- Memulai Persiapan Data ---\n",
            "\n",
            "--- Membagi Data menjadi Set Latih dan Uji ---\n",
            "\n",
            "==================================================\n",
            "  MEMULAI PELATIHAN DAN EVALUASI 3 MODEL\n",
            "==================================================\n",
            "\n",
            "--- Evaluasi Model: Regresi Logistik ---\n",
            "              precision    recall  f1-score   support\n",
            "\n",
            "           0       0.89      0.98      0.93        91\n",
            "           1       0.50      0.15      0.24        13\n",
            "\n",
            "    accuracy                           0.88       104\n",
            "   macro avg       0.70      0.57      0.58       104\n",
            "weighted avg       0.84      0.88      0.84       104\n",
            "\n",
            "\n",
            "--- Evaluasi Model: Random Forest ---\n",
            "              precision    recall  f1-score   support\n",
            "\n",
            "           0       0.87      0.99      0.93        91\n",
            "           1       0.00      0.00      0.00        13\n",
            "\n",
            "    accuracy                           0.87       104\n",
            "   macro avg       0.44      0.49      0.46       104\n",
            "weighted avg       0.76      0.87      0.81       104\n",
            "\n"
          ]
        },
        {
          "output_type": "stream",
          "name": "stderr",
          "text": [
            "/usr/local/lib/python3.11/dist-packages/xgboost/core.py:158: UserWarning: [15:10:15] WARNING: /workspace/src/learner.cc:740: \n",
            "Parameters: { \"use_label_encoder\" } are not used.\n",
            "\n",
            "  warnings.warn(smsg, UserWarning)\n"
          ]
        },
        {
          "output_type": "stream",
          "name": "stdout",
          "text": [
            "\n",
            "--- Evaluasi Model: XGBoost Classifier ---\n",
            "              precision    recall  f1-score   support\n",
            "\n",
            "           0       0.92      0.96      0.94        91\n",
            "           1       0.56      0.38      0.45        13\n",
            "\n",
            "    accuracy                           0.88       104\n",
            "   macro avg       0.74      0.67      0.70       104\n",
            "weighted avg       0.87      0.88      0.88       104\n",
            "\n"
          ]
        }
      ],
      "source": [
        "# =============================================================================\n",
        "# KODE FINAL: 3 MODEL DENGAN SUMBER FILE LOKAL CM1.arff\n",
        "# =============================================================================\n",
        "\n",
        "# Langkah 0: Import semua library yang dibutuhkan\n",
        "import pandas as pd\n",
        "from scipy.io import arff\n",
        "from sklearn.model_selection import train_test_split\n",
        "from sklearn.preprocessing import StandardScaler\n",
        "from sklearn.impute import SimpleImputer\n",
        "from sklearn.pipeline import Pipeline\n",
        "from sklearn.linear_model import LogisticRegression\n",
        "from sklearn.ensemble import RandomForestClassifier\n",
        "from xgboost import XGBClassifier\n",
        "from sklearn.metrics import classification_report\n",
        "import os\n",
        "\n",
        "# --- [BAGIAN 1: PEMUATAN FILE LOKAL ANDA (CM1.arff)] ---\n",
        "file_path = 'CM1.arff'\n",
        "\n",
        "if not os.path.exists(file_path):\n",
        "    print(f\"❌ File '{file_path}' tidak ditemukan!\")\n",
        "    print(\"Mohon pastikan Anda sudah mengunggah file tersebut ke sesi Colab.\")\n",
        "else:\n",
        "    print(f\"✅ File '{file_path}' ditemukan. Memuat data...\")\n",
        "    try:\n",
        "        # Buka dan muat file ARFF\n",
        "        with open(file_path, 'r', encoding='utf-8') as f:\n",
        "            data, meta = arff.loadarff(f)\n",
        "\n",
        "        # Ubah menjadi DataFrame pandas\n",
        "        df = pd.DataFrame(data)\n",
        "\n",
        "        # Kolom target 'Defective' dibaca sebagai bytes (misal: b'Y'), kita ubah jadi string lalu integer\n",
        "        target_col_name = 'Defective' # Sesuai dengan header file Anda\n",
        "        if target_col_name in df.columns:\n",
        "            df[target_col_name] = df[target_col_name].str.decode('utf-8').map({'Y': 1, 'N': 0})\n",
        "\n",
        "        print(\"✅ Dataset berhasil dimuat dan diproses dari file lokal ARFF!\")\n",
        "        print(\"\\nDistribusi Kelas Keseluruhan:\")\n",
        "        print(df[target_col_name].value_counts())\n",
        "\n",
        "        # --- [BAGIAN 2: PERSIAPAN DATA DAN PEMBUATAN PIPELINE] ---\n",
        "        print(\"\\n--- Memulai Persiapan Data ---\")\n",
        "        X = df.drop(target_col_name, axis=1)\n",
        "        y = df[target_col_name]\n",
        "\n",
        "        preprocessor = Pipeline(steps=[\n",
        "            ('imputer', SimpleImputer(strategy='mean')),\n",
        "            ('scaler', StandardScaler())\n",
        "        ])\n",
        "\n",
        "        # --- [BAGIAN 3: PEMBAGIAN DATA] ---\n",
        "        print(\"\\n--- Membagi Data menjadi Set Latih dan Uji ---\")\n",
        "        X_train, X_test, y_train, y_test = train_test_split(\n",
        "            X, y, test_size=0.3, random_state=42, stratify=y\n",
        "        )\n",
        "\n",
        "        X_train_processed = preprocessor.fit_transform(X_train)\n",
        "        X_test_processed = preprocessor.transform(X_test)\n",
        "\n",
        "        # --- [BAGIAN 4: PELATIHAN DAN EVALUASI 3 MODEL] ---\n",
        "        print(\"\\n\" + \"=\"*50)\n",
        "        print(\"  MEMULAI PELATIHAN DAN EVALUASI 3 MODEL\")\n",
        "        print(\"=\"*50 + \"\\n\")\n",
        "\n",
        "        # Model 1: Regresi Logistik\n",
        "        log_reg = LogisticRegression(random_state=42)\n",
        "        log_reg.fit(X_train_processed, y_train)\n",
        "        print(\"--- Evaluasi Model: Regresi Logistik ---\")\n",
        "        print(classification_report(y_test, log_reg.predict(X_test_processed)))\n",
        "\n",
        "        # Model 2: Random Forest\n",
        "        rf_clf = RandomForestClassifier(n_estimators=100, random_state=42, class_weight='balanced')\n",
        "        rf_clf.fit(X_train_processed, y_train)\n",
        "        print(\"\\n--- Evaluasi Model: Random Forest ---\")\n",
        "        print(classification_report(y_test, rf_clf.predict(X_test_processed)))\n",
        "\n",
        "        # Model 3: XGBoost\n",
        "        scale_pos_weight_value = y_train.value_counts()[0] / y_train.value_counts()[1]\n",
        "\n",
        "        xgb_clf = XGBClassifier(\n",
        "            n_estimators=100,\n",
        "            random_state=42,\n",
        "            scale_pos_weight=scale_pos_weight_value,\n",
        "            use_label_encoder=False,\n",
        "            eval_metric='logloss'\n",
        "        )\n",
        "        xgb_clf.fit(X_train_processed, y_train)\n",
        "        print(\"\\n--- Evaluasi Model: XGBoost Classifier ---\")\n",
        "        print(classification_report(y_test, xgb_clf.predict(X_test_processed)))\n",
        "\n",
        "    except Exception as e:\n",
        "        print(f\"❌ Terjadi error: {e}\")"
      ]
    },
    {
      "cell_type": "code",
      "source": [
        ""
      ],
      "metadata": {
        "id": "ByPQ7Ie0Dr2P"
      },
      "execution_count": null,
      "outputs": []
    }
  ]
}